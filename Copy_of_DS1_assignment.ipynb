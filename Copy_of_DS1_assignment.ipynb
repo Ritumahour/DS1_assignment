{
  "nbformat": 4,
  "nbformat_minor": 0,
  "metadata": {
    "colab": {
      "provenance": [],
      "authorship_tag": "ABX9TyO/kRqXK6RTx3Bv+6kFl/Q2",
      "include_colab_link": true
    },
    "kernelspec": {
      "name": "python3",
      "display_name": "Python 3"
    },
    "language_info": {
      "name": "python"
    }
  },
  "cells": [
    {
      "cell_type": "markdown",
      "metadata": {
        "id": "view-in-github",
        "colab_type": "text"
      },
      "source": [
        "<a href=\"https://colab.research.google.com/github/Ritumahour/DS1_assignment/blob/main/Copy_of_DS1_assignment.ipynb\" target=\"_parent\"><img src=\"https://colab.research.google.com/assets/colab-badge.svg\" alt=\"Open In Colab\"/></a>"
      ]
    },
    {
      "cell_type": "markdown",
      "source": [
        "# 1. write a code to reverse string."
      ],
      "metadata": {
        "id": "Remt76mD3iGD"
      }
    },
    {
      "cell_type": "code",
      "source": [
        "a = 'Hello World'\n",
        "print(a)"
      ],
      "metadata": {
        "colab": {
          "base_uri": "https://localhost:8080/"
        },
        "id": "B8dNIjfv4UZD",
        "outputId": "e43834ec-3646-40fe-ceb9-9b3db1067871"
      },
      "execution_count": null,
      "outputs": [
        {
          "output_type": "stream",
          "name": "stdout",
          "text": [
            "Hello World\n"
          ]
        }
      ]
    },
    {
      "cell_type": "code",
      "source": [
        "a [-1 :: -1]"
      ],
      "metadata": {
        "colab": {
          "base_uri": "https://localhost:8080/",
          "height": 35
        },
        "id": "CPFtuXhJ6eUM",
        "outputId": "26a16d3e-430e-445a-f071-0d7a3d471a14"
      },
      "execution_count": null,
      "outputs": [
        {
          "output_type": "execute_result",
          "data": {
            "text/plain": [
              "'dlroW olleH'"
            ],
            "application/vnd.google.colaboratory.intrinsic+json": {
              "type": "string"
            }
          },
          "metadata": {},
          "execution_count": 12
        }
      ]
    },
    {
      "cell_type": "markdown",
      "source": [
        "# 2. Write a code to count the number of vowels in 'strings'."
      ],
      "metadata": {
        "id": "GCFuIuNI7pT6"
      }
    },
    {
      "cell_type": "code",
      "source": [
        "string = input(\"enter the string\")\n",
        "vowels = 0\n",
        "for i in string:\n",
        "  if (i=='a' or i=='e' or i=='i' or i=='o' or i=='u' or i=='A' or i=='E' or i=='I' or i=='O' or i=='U'):\n",
        "    vowels=vowels+1\n",
        "print(\"numbers of vowels are:\")\n",
        "print(vowels)\n",
        "\n",
        "\n"
      ],
      "metadata": {
        "colab": {
          "base_uri": "https://localhost:8080/"
        },
        "id": "FnKVjC5B8Xqs",
        "outputId": "6e753843-3cf2-427d-f884-8562388c9dda"
      },
      "execution_count": null,
      "outputs": [
        {
          "output_type": "stream",
          "name": "stdout",
          "text": [
            "enter the stringHello World\n",
            "numbers of vowels are:\n",
            "3\n"
          ]
        }
      ]
    },
    {
      "cell_type": "markdown",
      "source": [
        "# 3. Write a code to check if a given string is a palindrome or not."
      ],
      "metadata": {
        "id": "7F_HzV4V-CVd"
      }
    },
    {
      "cell_type": "code",
      "source": [
        "def check_palin (str):\n",
        "   for i in range (0, int (len (str)/2)):\n",
        "                  if str [i] != str [len (str) -i-1]:\n",
        "                                return False\n",
        "                  return True\n",
        "str_1 = input ('enter a string.')\n",
        "ans = check_palin (str_1)\n",
        "if (ans):\n",
        "            print ('yes,it is a palindrome.')\n",
        "else:\n",
        "            print ('no,it is not a palindrome')\n",
        "\n",
        "\n"
      ],
      "metadata": {
        "id": "rlmmIkig-xcV",
        "colab": {
          "base_uri": "https://localhost:8080/"
        },
        "outputId": "21084c9f-004b-4d45-9a2e-da56224925c4"
      },
      "execution_count": null,
      "outputs": [
        {
          "output_type": "stream",
          "name": "stdout",
          "text": [
            "enter a string.I am student of pwskill\n",
            "no,it is not a palindrome\n"
          ]
        }
      ]
    },
    {
      "cell_type": "markdown",
      "source": [
        "# 4. write a code to check if two given strings are anagrams of each other."
      ],
      "metadata": {
        "id": "AMROSLap-yN2"
      }
    },
    {
      "cell_type": "code",
      "source": [
        "def check(s1,s2):\n",
        "  if(sorted(s1) == sorted(s2)):\n",
        "     print(\"The string are anagrams.\")\n",
        "  else:\n",
        "     print(\"The strings are not anagrams.\")\n",
        "s1 = \"listen\"\n",
        "s2 = \"silent\"\n",
        "check(s1,s2)"
      ],
      "metadata": {
        "id": "KEveCJDa_Myh",
        "colab": {
          "base_uri": "https://localhost:8080/"
        },
        "outputId": "528d9dd8-2bd0-4a7f-bbcf-090e3672197a"
      },
      "execution_count": null,
      "outputs": [
        {
          "output_type": "stream",
          "name": "stdout",
          "text": [
            "The string are anagrams.\n"
          ]
        }
      ]
    },
    {
      "cell_type": "markdown",
      "source": [
        "# 7. Write a code to determine if a string has all unique characters."
      ],
      "metadata": {
        "id": "iK1Qos-XCHJi"
      }
    },
    {
      "cell_type": "code",
      "source": [
        "def has_unique_chars(s):\n",
        "  \"\"\"\n",
        "  Returns True if the string has all unique character, False otherwise,\n",
        "  \"\"\"\n",
        "  return len(set(s)) == len(s)\n",
        "print(has_unique_chars(\"abcde\"))\n",
        "print(has_unique_chars(\"abcdea\"))"
      ],
      "metadata": {
        "colab": {
          "base_uri": "https://localhost:8080/"
        },
        "id": "BBAIjRV4CdIp",
        "outputId": "a63fcf5e-cf9b-42ba-f88e-846bd79319c4"
      },
      "execution_count": null,
      "outputs": [
        {
          "output_type": "stream",
          "name": "stdout",
          "text": [
            "True\n",
            "False\n"
          ]
        }
      ]
    },
    {
      "cell_type": "markdown",
      "source": [
        "# 8. Write a code to convert a given string to uppercase or lowercase."
      ],
      "metadata": {
        "id": "tL58L9OvLA67"
      }
    },
    {
      "cell_type": "code",
      "source": [
        "string1 = 'Hello world'\n",
        "print(string1)"
      ],
      "metadata": {
        "colab": {
          "base_uri": "https://localhost:8080/"
        },
        "id": "M_uYLDXLQ1lF",
        "outputId": "ec02efda-f319-4814-ddc0-da9ec0e80b12"
      },
      "execution_count": null,
      "outputs": [
        {
          "output_type": "stream",
          "name": "stdout",
          "text": [
            "Hello world\n"
          ]
        }
      ]
    },
    {
      "cell_type": "code",
      "source": [
        "#uppercase\n",
        "string1 = 'Hello world'\n",
        "string1.upper()\n"
      ],
      "metadata": {
        "colab": {
          "base_uri": "https://localhost:8080/",
          "height": 35
        },
        "id": "0YRUSkqpLVXR",
        "outputId": "dad7861b-6254-4ff0-c2bd-37fac6b853e8"
      },
      "execution_count": null,
      "outputs": [
        {
          "output_type": "execute_result",
          "data": {
            "text/plain": [
              "'HELLO WORLD'"
            ],
            "application/vnd.google.colaboratory.intrinsic+json": {
              "type": "string"
            }
          },
          "metadata": {},
          "execution_count": 39
        }
      ]
    },
    {
      "cell_type": "code",
      "source": [
        "#lowercase\n",
        "string1 = 'Hello World'\n",
        "string1.lower()"
      ],
      "metadata": {
        "colab": {
          "base_uri": "https://localhost:8080/",
          "height": 35
        },
        "id": "yIcBVXQJMOqK",
        "outputId": "836974e8-da00-43fe-fb55-dd5b1f2a05dd"
      },
      "execution_count": null,
      "outputs": [
        {
          "output_type": "execute_result",
          "data": {
            "text/plain": [
              "'hello world'"
            ],
            "application/vnd.google.colaboratory.intrinsic+json": {
              "type": "string"
            }
          },
          "metadata": {},
          "execution_count": 41
        }
      ]
    },
    {
      "cell_type": "markdown",
      "source": [
        "# 9. Write a code to count the number of words in a strings."
      ],
      "metadata": {
        "id": "9FZe3YbLrllu"
      }
    },
    {
      "cell_type": "code",
      "source": [
        "string1 = 'Hello World'\n",
        "t= len(string1)\n",
        "print(t)"
      ],
      "metadata": {
        "colab": {
          "base_uri": "https://localhost:8080/"
        },
        "id": "uTspQ1c2uOwT",
        "outputId": "03022eb6-1a46-477c-f30f-177b37d418b2"
      },
      "execution_count": null,
      "outputs": [
        {
          "output_type": "stream",
          "name": "stdout",
          "text": [
            "11\n"
          ]
        }
      ]
    },
    {
      "cell_type": "markdown",
      "source": [
        "# 10. write a code to concatenate two strings without using the + operator."
      ],
      "metadata": {
        "id": "MOUEyPIoy83a"
      }
    },
    {
      "cell_type": "code",
      "source": [
        "str1 = \"Hello\"\n",
        "str2 = \"World\"\n",
        "print(\"\".join([str1,str2]))"
      ],
      "metadata": {
        "colab": {
          "base_uri": "https://localhost:8080/"
        },
        "id": "fRV6U4V11QWj",
        "outputId": "fb997b07-ae8c-4879-fbb9-6827ab89c656"
      },
      "execution_count": null,
      "outputs": [
        {
          "output_type": "stream",
          "name": "stdout",
          "text": [
            "HelloWorld\n"
          ]
        }
      ]
    },
    {
      "cell_type": "markdown",
      "source": [
        "# 11. write a code to remove all occurrence of a specific element from a list."
      ],
      "metadata": {
        "id": "ujsLZy462UAH"
      }
    },
    {
      "cell_type": "code",
      "source": [
        "a = [1,1,1,2,3,4,5,1,2]\n",
        "a.remove(1)\n",
        "print(a)"
      ],
      "metadata": {
        "colab": {
          "base_uri": "https://localhost:8080/"
        },
        "id": "g89UCI_v79Ld",
        "outputId": "30fb1b6e-7ef4-4f5d-8374-43c8a14d79f0"
      },
      "execution_count": null,
      "outputs": [
        {
          "output_type": "stream",
          "name": "stdout",
          "text": [
            "[1, 1, 2, 3, 4, 5, 1, 2]\n"
          ]
        }
      ]
    },
    {
      "cell_type": "markdown",
      "source": [
        "# 12.Implement a code to find the second largest number in a given list of integer."
      ],
      "metadata": {
        "id": "dvvBbLnwBGLr"
      }
    },
    {
      "cell_type": "code",
      "source": [
        "def second_largest(numbers):\n",
        "    if len(numbers) < 2:\n",
        "       return None # not enough elements\n",
        "    first, second = float('-inf'), float('-inf')\n",
        "\n",
        "    for number in numbers:\n",
        "        if number > first:\n",
        "          first, second = number, first\n",
        "        elif first > number > second:\n",
        "          second = number\n",
        "    return second if second != float('-inf') else None\n",
        "numbers = [3, 1, 4, 4, 5, 2,]\n",
        "result = second_largest(numbers)\n",
        "print(result)\n"
      ],
      "metadata": {
        "colab": {
          "base_uri": "https://localhost:8080/"
        },
        "id": "prg1LXKtI4u6",
        "outputId": "a5d1d3b4-0ecc-4173-9d31-93314db2dc32"
      },
      "execution_count": null,
      "outputs": [
        {
          "output_type": "stream",
          "name": "stdout",
          "text": [
            "4\n"
          ]
        }
      ]
    },
    {
      "cell_type": "markdown",
      "source": [
        "# 13. Create a code to count the occurrences of each element in a list and return a dictionary with elements as key and their counts as value."
      ],
      "metadata": {
        "id": "l3atlqW0JIGn"
      }
    },
    {
      "cell_type": "code",
      "source": [
        "def count_occurrences(input_list):\n",
        "    occurrence_dict = {}\n",
        "    for element in input_list:\n",
        "        if element in occurrence_dict:\n",
        "           occurrence_dict[element] += 1\n",
        "        else:\n",
        "           occurrence_dict[element] = 1\n",
        "    return occurrence_dict\n",
        "sample_list = [1, 2, 2, 3, 4, 4, 4, 5, 5]\n",
        "result = count_occurrences(sample_list)\n",
        "print(result)"
      ],
      "metadata": {
        "id": "khZqI4SKKUOg",
        "colab": {
          "base_uri": "https://localhost:8080/"
        },
        "outputId": "11f59f6a-5804-42a6-ac3e-0d519abc7630"
      },
      "execution_count": null,
      "outputs": [
        {
          "output_type": "stream",
          "name": "stdout",
          "text": [
            "{1: 1, 2: 2, 3: 1, 4: 3, 5: 2}\n"
          ]
        }
      ]
    },
    {
      "cell_type": "markdown",
      "source": [
        "# 14. Write a code to reverse a list in-place without using any built-in reverse functions."
      ],
      "metadata": {
        "id": "0FWbYhnUihzK"
      }
    },
    {
      "cell_type": "code",
      "source": [
        "def reverse_list(lst):\n",
        "    # Initialize two pointers\n",
        "    start = 0\n",
        "    end = len(lst) - 1\n",
        "    # Swap element while start is less than end\n",
        "    while start < end:\n",
        "        # Swap the elements\n",
        "        lst[start], lst[end] = lst[end], lst[start]\n",
        "        # Move the pointers\n",
        "        start += 1\n",
        "        end -= 1\n",
        "my_list = [1, 2, 3, 4, 5]\n",
        "reverse_list(my_list)\n",
        "print(my_list)"
      ],
      "metadata": {
        "colab": {
          "base_uri": "https://localhost:8080/"
        },
        "id": "R_bNdkNHjmmL",
        "outputId": "269a137e-5aee-44a0-c286-8d3d04c9f61c"
      },
      "execution_count": null,
      "outputs": [
        {
          "output_type": "stream",
          "name": "stdout",
          "text": [
            "[5, 4, 3, 2, 1]\n"
          ]
        }
      ]
    },
    {
      "cell_type": "markdown",
      "source": [
        "# 15. Implement a code to find and remove duplicates from a list while preserving the original order of elements."
      ],
      "metadata": {
        "id": "d05Uk25inOLO"
      }
    },
    {
      "cell_type": "code",
      "source": [
        "def remove_duplicates(lst):\n",
        "    seen = set()  # Set to store seen elements\n",
        "    result = []   # List to store the unique elements\n",
        "    for item in lst:\n",
        "        if item not in seen:\n",
        "            result.append(item)\n",
        "            seen.add(item)\n",
        "    return result\n",
        "my_list = [1, 2, 2, 3, 4, 3, 5]\n",
        "unique_list = remove_duplicates(my_list)\n",
        "print(unique_list)"
      ],
      "metadata": {
        "colab": {
          "base_uri": "https://localhost:8080/"
        },
        "id": "HjtVSCmVoPIA",
        "outputId": "1bb356cb-09b2-4377-dd61-8462380658ac"
      },
      "execution_count": null,
      "outputs": [
        {
          "output_type": "stream",
          "name": "stdout",
          "text": [
            "[1, 2, 3, 4, 5]\n"
          ]
        }
      ]
    },
    {
      "cell_type": "markdown",
      "source": [
        "# 17. Write a code to merge two sorted lists into a single sorted list."
      ],
      "metadata": {
        "id": "n54liP9qL1bK"
      }
    },
    {
      "cell_type": "code",
      "source": [
        "def merge_sorted_lists(list1, list2):\n",
        "    merged_list = []\n",
        "    i = 0\n",
        "    j = 0\n",
        "\n",
        "    while i < len(list1) and j < len(list2):\n",
        "        if list1[i] < list2[j]:\n",
        "            merged_list.append(list1[i])\n",
        "            i += 1\n",
        "        else:\n",
        "            merged_list.append(list2[j])\n",
        "            j += 1\n",
        "    while i < len(list1):\n",
        "        merged_list.append(list1[i])\n",
        "        i += 1\n",
        "    while j < len(list2):\n",
        "        merged_list.append(list2[j])\n",
        "        j += 1\n",
        "    return merged_list\n",
        "list1 = [1, 3, 5, 7]\n",
        "list2 = [2, 4, 6, 8]\n",
        "result = merge_sorted_lists(list1, list2)\n",
        "print(result)"
      ],
      "metadata": {
        "colab": {
          "base_uri": "https://localhost:8080/"
        },
        "id": "Ik6b6UXAL08B",
        "outputId": "e3ed67ee-d8fd-4e7e-cc35-f689236fde3f"
      },
      "execution_count": null,
      "outputs": [
        {
          "output_type": "stream",
          "name": "stdout",
          "text": [
            "[1, 2, 3, 4, 5, 6, 7, 8]\n"
          ]
        }
      ]
    },
    {
      "cell_type": "markdown",
      "source": [
        "# 18. Implement a code to find the intersection of two given lists."
      ],
      "metadata": {
        "id": "KDdRZQaYOvDg"
      }
    },
    {
      "cell_type": "code",
      "source": [
        "def list_intersection(list1, list2):\n",
        "    set1 = set(list1)\n",
        "    set2 = set(list2)\n",
        "    intersection = set1.intersection(set2)\n",
        "    return list(intersection)\n",
        "list1 = [1, 2, 3, 4, 5]\n",
        "list2 = [4, 5, 6, 7, 8]\n",
        "result = list_intersection(list1, list2)\n",
        "print(result)"
      ],
      "metadata": {
        "colab": {
          "base_uri": "https://localhost:8080/"
        },
        "id": "0m1p-J1JPNVT",
        "outputId": "f594f3dd-a6f7-47e9-cd55-bb02010f3c14"
      },
      "execution_count": null,
      "outputs": [
        {
          "output_type": "stream",
          "name": "stdout",
          "text": [
            "[4, 5]\n"
          ]
        }
      ]
    },
    {
      "cell_type": "markdown",
      "source": [
        "# 19. Create a code to find the union of two lists without duplicates"
      ],
      "metadata": {
        "id": "OPc_1OqVQXi4"
      }
    },
    {
      "cell_type": "code",
      "source": [
        "def list_union(list1, list2):\n",
        "    set1 = set(list1)\n",
        "    set2 = set(list2)\n",
        "    union = set1.union(set2)\n",
        "    return list(union)\n",
        "list1 = [1, 2, 3, 4, 5]\n",
        "list2 = [4, 5, 6, 7, 8]\n",
        "result = list_union(list1, list2)\n",
        "print(result)"
      ],
      "metadata": {
        "colab": {
          "base_uri": "https://localhost:8080/"
        },
        "id": "ouzfSariQUAi",
        "outputId": "2d360e7c-fcfd-4f3f-d6c1-eaec7f4e4b11"
      },
      "execution_count": null,
      "outputs": [
        {
          "output_type": "stream",
          "name": "stdout",
          "text": [
            "[1, 2, 3, 4, 5, 6, 7, 8]\n"
          ]
        }
      ]
    },
    {
      "cell_type": "markdown",
      "source": [
        "# 20. Write a code to shuffle a given list randomly without using any built-in shuffle functions."
      ],
      "metadata": {
        "id": "PPkmwk9hR-g4"
      }
    },
    {
      "cell_type": "code",
      "source": [
        "import random\n",
        "def custom_shuffle(list):\n",
        "    n = len(list)\n",
        "    for i in range(n):\n",
        "        rand_index = random.randint(0, n - 1)\n",
        "        list[i], list[rand_index] = list[rand_index], list[i]\n",
        "    return list\n",
        "my_list = [1, 2, 3, 4, 5, 6, 7, 8, 9]\n",
        "shuffled_list = custom_shuffle(my_list)\n",
        "print(shuffled_list)"
      ],
      "metadata": {
        "colab": {
          "base_uri": "https://localhost:8080/"
        },
        "id": "2pe8X25aR7_B",
        "outputId": "6b30f2ef-c246-46ad-a6f2-22a006bc4bdc"
      },
      "execution_count": null,
      "outputs": [
        {
          "output_type": "stream",
          "name": "stdout",
          "text": [
            "[3, 5, 8, 4, 1, 2, 7, 6, 9]\n"
          ]
        }
      ]
    },
    {
      "cell_type": "markdown",
      "source": [
        "# 21. Write a code that takes two tuples as input and returns a new tuple containing elements that are common to both input tuples."
      ],
      "metadata": {
        "id": "IK0XGbdFU-D1"
      }
    },
    {
      "cell_type": "code",
      "source": [
        "def common_elements(tuple1, tuple2):\n",
        "    set1 = set(tuple1)\n",
        "    set2 = set(tuple2)\n",
        "    common = set1.intersection(set2)\n",
        "    return tuple(common)\n",
        "tuple1 = (1, 2, 3, 4, 5)\n",
        "tuple2 = (4, 5, 6, 7, 8)\n",
        "result = common_elements(tuple1, tuple2)\n",
        "print(result)"
      ],
      "metadata": {
        "colab": {
          "base_uri": "https://localhost:8080/"
        },
        "id": "T_Du2XR4UuBq",
        "outputId": "96bf94ca-d98a-4298-c1e8-98117c01c35b"
      },
      "execution_count": null,
      "outputs": [
        {
          "output_type": "stream",
          "name": "stdout",
          "text": [
            "(4, 5)\n"
          ]
        }
      ]
    },
    {
      "cell_type": "markdown",
      "source": [
        "# 22. Create a code that prompts the user to enter two sets of integers seperted by commas. Then, print the intersection of these two sets."
      ],
      "metadata": {
        "id": "Fo-e4mlbXfZd"
      }
    },
    {
      "cell_type": "code",
      "source": [
        "def get_set_from_input(prompt):\n",
        "    return set(map(int, input(prompt).split(',')))\n",
        "def main():\n",
        "    set1 = get_set_from_input(\"Enter the first set of integers, separated by commas:\")\n",
        "    set2 = get_set_from_input(\"Enter the second set of integers,separted by commas:\")\n",
        "    intersection = set1.intersection(set2)\n",
        "    print(f\"The intersection of the two sets is: {intersection}\")\n",
        "main()"
      ],
      "metadata": {
        "colab": {
          "base_uri": "https://localhost:8080/"
        },
        "id": "W2H0fB6sXdnS",
        "outputId": "2ffab033-9cd9-4e04-bceb-a3f8abb292eb"
      },
      "execution_count": null,
      "outputs": [
        {
          "output_type": "stream",
          "name": "stdout",
          "text": [
            "Enter the first set of integers, separated by commas:1, 2, 3, 4, 5\n",
            "Enter the second set of integers,separted by commas:4, 5, 6, 7, 8\n",
            "The intersection of the two sets is: {4, 5}\n"
          ]
        }
      ]
    },
    {
      "cell_type": "markdown",
      "source": [
        "# 23. Write a code to concatenate two tuples. The function should take two tuples as input and return a new tuple containing elements from both input tuples."
      ],
      "metadata": {
        "id": "z8giSUtQbl6v"
      }
    },
    {
      "cell_type": "code",
      "source": [
        "from typing_extensions import Concatenate\n",
        "def concatenate_tuples(tuple1, tuple2):\n",
        "    return tuple1 + tuple2\n",
        "tuple1 = (1, 2, 3)\n",
        "tuple2 = (4, 5, 6)\n",
        "result = concatenate_tuples(tuple1, tuple2)\n",
        "print(result)"
      ],
      "metadata": {
        "colab": {
          "base_uri": "https://localhost:8080/"
        },
        "id": "tOquKHixbBjC",
        "outputId": "d75448bf-f62a-471a-e9fe-c3e9a405cab5"
      },
      "execution_count": null,
      "outputs": [
        {
          "output_type": "stream",
          "name": "stdout",
          "text": [
            "(1, 2, 3, 4, 5, 6)\n"
          ]
        }
      ]
    },
    {
      "cell_type": "markdown",
      "source": [
        "# 24. Develop a code that prompts the user to input two sets of strings. Then, print the elements that are present in the first set but not in the second set."
      ],
      "metadata": {
        "id": "qgFTFlbYex2b"
      }
    },
    {
      "cell_type": "code",
      "source": [
        "def get_set_from_input(prompt):\n",
        "    return set(input(prompt).split(','))\n",
        "def main():\n",
        "    set1 = get_set_from_input(\"enter the firt set of strings, separated by commas:\")\n",
        "    set2 = get_set_from_input(\"enter the second set of strings, separated by commas:\")\n",
        "    difference = set1.difference(set2)\n",
        "    print(f\"elements present in the first set but not in the second set: {difference}\")\n",
        "main()"
      ],
      "metadata": {
        "colab": {
          "base_uri": "https://localhost:8080/"
        },
        "id": "YqcMU44Cf8Z7",
        "outputId": "de7aac37-fa76-4438-80d5-80ea68b5511a"
      },
      "execution_count": null,
      "outputs": [
        {
          "output_type": "stream",
          "name": "stdout",
          "text": [
            "enter the firt set of strings, separated by commas:apple, banana, grape\n",
            "enter the second set of strings, separated by commas:banana, orange, grape\n",
            "elements present in the first set but not in the second set: {' banana', 'apple'}\n"
          ]
        }
      ]
    },
    {
      "cell_type": "markdown",
      "source": [
        "# 25. Create a code that takes a tuple and two integers as input. The function should return a new tuple containing elements from the original tuple within the specified range of indices."
      ],
      "metadata": {
        "id": "srlP8QvHjgD-"
      }
    },
    {
      "cell_type": "code",
      "source": [
        "def slice_tuple(input_tuple, start_index, end_index):\n",
        "    return input_tuple[start_index:end_index]\n",
        "input_tuple = (10, 20, 30, 40, 50, 60, 70, 80)\n",
        "start_index = int(input(\"Enter the start index:\"))\n",
        "end_index = int(input(\"Enter the start index:\"))\n",
        "result = slice_tuple(input_tuple, start_index, end_index)\n",
        "print(result)"
      ],
      "metadata": {
        "colab": {
          "base_uri": "https://localhost:8080/"
        },
        "id": "jCWGnslxkB34",
        "outputId": "3e140bf9-eca4-4e5b-b17b-247dca0f1a12"
      },
      "execution_count": null,
      "outputs": [
        {
          "output_type": "stream",
          "name": "stdout",
          "text": [
            "Enter the start index:2\n",
            "Enter the start index:5\n",
            "(30, 40, 50)\n"
          ]
        }
      ]
    },
    {
      "cell_type": "markdown",
      "source": [
        "# 26. Write a code to prompts the user to input two sets of characters. Then, print the union of these two sets."
      ],
      "metadata": {
        "id": "itNCnbcumKG7"
      }
    },
    {
      "cell_type": "code",
      "source": [
        "def get_set_from_input(prompt):\n",
        "    return set(input(prompt).split(','))\n",
        "def main():\n",
        "    set1 = get_set_from_input(\"Enter the first set of characters, separated by commas:\")\n",
        "    set2 = get_set_from_input(\"Enter the first set of characters, separated by commas:\")\n",
        "    union_set = set1.union(set2)\n",
        "    print(f\"The union of the two sets is: {union_set}\")\n",
        "main()"
      ],
      "metadata": {
        "colab": {
          "base_uri": "https://localhost:8080/"
        },
        "id": "f0ZTuN-JmhvS",
        "outputId": "9f749462-60a0-4910-f83d-2d60732e1239"
      },
      "execution_count": null,
      "outputs": [
        {
          "output_type": "stream",
          "name": "stdout",
          "text": [
            "Enter the first set of characters, separated by commas:a,b,c\n",
            "Enter the first set of characters, separated by commas:b,c,d,e\n",
            "The union of the two sets is: {'c', 'a', 'd', 'e', 'b'}\n"
          ]
        }
      ]
    },
    {
      "cell_type": "markdown",
      "source": [
        "# 27. Develop a code that takes a tuple of integers as input. The function should return the maximum and minimum values from the tuple using tuple unpacking."
      ],
      "metadata": {
        "id": "ygbHRtBhpOxS"
      }
    },
    {
      "cell_type": "code",
      "source": [
        "def find_max_min(input_tuple):\n",
        "    max_value = max(input_tuple)\n",
        "    min_value = min(input_tuple)\n",
        "    return max_value, min_value\n",
        "input_tuple = tuple(map(int, input(\"Enter a tuple of integers, separated by commas:\").split(',')))\n",
        "max_value, min_value = find_max_min(input_tuple)\n",
        "print(f\"Maximum value: {max_value}\")\n",
        "print(f\"Minimum value: {min_value}\")\n"
      ],
      "metadata": {
        "colab": {
          "base_uri": "https://localhost:8080/"
        },
        "id": "nYTT_T2HmDdo",
        "outputId": "bba3d72f-1ce3-4293-aaf6-859a168252b6"
      },
      "execution_count": null,
      "outputs": [
        {
          "output_type": "stream",
          "name": "stdout",
          "text": [
            "Enter a tuple of integers, separated by commas:10, 20, 5, 30, 15\n",
            "Maximum value: 30\n",
            "Minimum value: 5\n"
          ]
        }
      ]
    },
    {
      "cell_type": "markdown",
      "source": [
        "# 28. Create a code that defines two sets of integers.Then,print the union, intersection, and difference of these two sets."
      ],
      "metadata": {
        "id": "dN6FcoXcsMMF"
      }
    },
    {
      "cell_type": "code",
      "source": [
        "def main():\n",
        "    set1 = {1, 2, 3, 4, 5}\n",
        "    set2 = {4, 5, 6, 7, 8}\n",
        "    union_set = set1.union(set2)\n",
        "    intersection_set = set1.intersection(set2)\n",
        "    difference_set1 = set1.difference(set2)\n",
        "    difference_set2 = set2.difference(set2)\n",
        "    print(f\"Set 1: {set1}\")\n",
        "    print(f\"Set 2: {set2}\")\n",
        "    print(f\"Union: {union_set}\")\n",
        "    print(f\"Intersection: {intersection_set}\")\n",
        "    print(f\"Difference (Set 1 - Set 2): {difference_set1}\")\n",
        "    print(f\"Difference (Set 2 - Set 1): {difference_set2}\")\n",
        "main()"
      ],
      "metadata": {
        "colab": {
          "base_uri": "https://localhost:8080/"
        },
        "id": "NqSSexH_tHGw",
        "outputId": "3875a70f-d7e0-401e-ac80-e015d9bb9bb2"
      },
      "execution_count": null,
      "outputs": [
        {
          "output_type": "stream",
          "name": "stdout",
          "text": [
            "Set 1: {1, 2, 3, 4, 5}\n",
            "Set 2: {4, 5, 6, 7, 8}\n",
            "Union: {1, 2, 3, 4, 5, 6, 7, 8}\n",
            "Intersection: {4, 5}\n",
            "Difference (Set 1 - Set 2): {1, 2, 3}\n",
            "Difference (Set 2 - Set 1): set()\n"
          ]
        }
      ]
    },
    {
      "cell_type": "markdown",
      "source": [
        "# 29. Write a code that takes a tuple and an element as input.The function should return the count of occurrences of the given element in the tuple."
      ],
      "metadata": {
        "id": "ygyyTrMpykw_"
      }
    },
    {
      "cell_type": "code",
      "source": [
        "def count_occurrences(input_tuple,element):\n",
        "    return input_tuple.count(element)\n",
        "input_tuple = tuple(input(\"Enter a tuple of element, separated by commas:\").split(','))\n",
        "element = input(\"Enter the element to count:\")\n",
        "occurrences = count_occurrences(input_tuple, element)\n",
        "print(f\"The element '{element}' occurs {occurrences} time(s) in the tuple.\")\n"
      ],
      "metadata": {
        "colab": {
          "base_uri": "https://localhost:8080/"
        },
        "id": "64jp9hoJzlFV",
        "outputId": "d55a66c6-53fc-4fe5-94ac-279183c512aa"
      },
      "execution_count": null,
      "outputs": [
        {
          "output_type": "stream",
          "name": "stdout",
          "text": [
            "Enter a tuple of element, separated by commas:apple,banana,orange,apple,grape\n",
            "Enter the element to count:apple\n",
            "The element 'apple' occurs 2 time(s) in the tuple.\n"
          ]
        }
      ]
    }
  ]
}